{
 "cells": [
  {
   "cell_type": "markdown",
   "id": "3e881385-fb37-4e33-b177-6262fb643be8",
   "metadata": {},
   "source": [
    "# question 1\n",
    "Statistics is the discipline that concerns the collection, organization, analysis, interpretation, and presentation of data."
   ]
  },
  {
   "cell_type": "markdown",
   "id": "74e4992b-e379-495e-98ad-ad114b400100",
   "metadata": {},
   "source": [
    "# question 2\n",
    "The two major areas of statistics are known as descriptive statistics, which describes the properties of sample and population data, and inferential statistics, which uses those properties to test hypotheses and draw conclusions. Descriptive statistics include mean (average), variance, skewness, and kurtosis. Inferential statistics include linear regression analysis, analysis of variance (ANOVA), logit/Probit models, and null hypothesis testing.\n",
    "\n"
   ]
  },
  {
   "cell_type": "markdown",
   "id": "d4ed43e7-c899-44ed-ba7d-b4eca8ce8786",
   "metadata": {},
   "source": [
    "# question 3\n",
    "Qualitative or Categorical Data is data that can’t be measured or counted in the form of numbers. These types of data are sorted by category, not by number. That’s why it is also known as Categorical Data. These data consist of audio, images, symbols, or text. The gender of a person, i.e., male, female, or others, is qualitative data.\n",
    "\n",
    "Qualitative data tells about the perception of people. This data helps market researchers understand the customers’ tastes and then design their ideas and strategies accordingly. \n",
    "\n",
    "The other examples of qualitative data are :\n",
    "What language do you speak\n",
    "Favorite holiday destination\n",
    "Opinion on something (agree, disagree, or neutral)\n",
    "Colors\n",
    "\n",
    "Quantitative Data--\n",
    "Quantitative data can be expressed in numerical values, making it countable and including statistical data analysis. These kinds of data are also known as Numerical data. It answers the questions like “how much,” “how many,” and “how often.” For example, the price of a phone, the computer’s ram, the height or weight of a person, etc., falls under quantitative data. \n",
    "\n",
    "Quantitative data can be used for statistical manipulation. These data can be represented on a wide variety of graphs and charts, such as bar graphs, histograms, scatter plots, boxplots, pie charts, line graphs, etc.\n",
    "\n",
    "Examples of Quantitative Data : \n",
    "Height or weight of a person or object\n",
    "Room Temperature\n",
    "Scores and Marks (Ex: 59, 80, 60, etc.)\n",
    "Time\n"
   ]
  },
  {
   "cell_type": "markdown",
   "id": "a0ec1d6e-5cf2-4133-a83b-f6ec6b24d0ec",
   "metadata": {},
   "source": [
    "# question 4\n",
    "\n",
    "i-- qualitative\n",
    "\n",
    "ii-- qualitative\n",
    "\n",
    "iii-- quantitative\n",
    "\n",
    "iv-- quantitative"
   ]
  },
  {
   "cell_type": "markdown",
   "id": "03afdb9f-dfad-40ad-9a27-d943adc98ce3",
   "metadata": {},
   "source": [
    "# question 5\n",
    "Levels of measurement, also called scales of measurement, tell you how precisely variables are recorded. In scientific research, a variable is anything that can take on different values across your data set (e.g., height or test scores).\n",
    "\n",
    "There are 4 levels of measurement:\n",
    "\n",
    "Nominal: the data can only be categorized. Example- City of birth , Gender , Ethnicity, marital status .\n",
    "\n",
    "Ordinal: the data can be categorized and ranked. Example- you can rank the top 5 Olympic medallists, this scale does not tell you how close or far apart they are in number of wins.\n",
    "\n",
    "Interval: the data can be categorized, ranked, and evenly spaced. Example- test scores and personality inventories. A zero on a test is arbitrary; it does not mean that the test-taker has an absolute lack of the trait being measured.\n",
    "\n",
    "Ratio: the data can be categorized, ranked, evenly spaced, and has a natural zero. Example- in the Kelvin temperature scale, there are no negative degrees of temperature – zero means an absolute lack of thermal energy."
   ]
  },
  {
   "cell_type": "markdown",
   "id": "669f1c85-9f3a-4fef-a76e-d01058ca45b8",
   "metadata": {},
   "source": [
    "# question 6\n",
    "A variable has one of four different levels of measurement: Nominal, Ordinal, Interval, or Ratio.  (Interval and Ratio levels of measurement are sometimes called Continuous or Scale).  It is important for the researcher to understand the different levels of measurement, as these levels of measurement, together with how the research question is phrased, dictate what statistical analysis is appropriate. "
   ]
  },
  {
   "cell_type": "markdown",
   "id": "4eeb1792-b47e-43ff-9c24-5fae4482c705",
   "metadata": {},
   "source": [
    "# question 7\n",
    "The main differences between Nominal Data and Ordinal Data are: While Nominal Data is classified without any intrinsic ordering or rank, Ordinal Data has some predetermined or natural order."
   ]
  },
  {
   "cell_type": "markdown",
   "id": "6c6663b1-edfd-4905-b48c-223bdec5443a",
   "metadata": {},
   "source": [
    "# question 8\n",
    "Histogram. If the groups depicted in a bar chart are actually continuous numeric ranges, we can push the bars together to generate a histogram. Bar lengths in histograms typically correspond to counts of data points, and their patterns demonstrate the distribution of variables in your data."
   ]
  },
  {
   "cell_type": "markdown",
   "id": "a6dd71a0-6fdd-48e0-bee1-9d880298b665",
   "metadata": {},
   "source": [
    "# question 9\n",
    "The differences between descriptive statistics vs inferential statistics lie as much in the process as in the statistics reported. Given below are the key points of difference in descriptive vs inferential statistics.     \n",
    "\n",
    "Descriptive Statistics gives information about raw data regarding its description or features. Inferential statistics, on the other hand, draw inferences about the population by using data extracted from the population. \n",
    "\n",
    "We use descriptive statistics to describe a situation, while we use inferential statistics to explain the probability of occurrence of an event. \n",
    "\n",
    "As for descriptive statistics, it helps to organize, analyze and present data in a meaningful manner. Inferential statistics helps to compare data, make hypotheses and predictions. \n",
    "\n",
    "Descriptive statistics explains already known data related to a particular sample or population of a small size. Inferential statistics, however, aims to draw inferences or conclusions about a whole population. \n",
    "\n",
    "We use charts, graphs, and tables to represent descriptive statistics, while we use probability methods for inferential statistics.\n",
    "\n",
    "It is simpler to perform a study using descriptive statistics rather than inferential statistics, where you need to establish a relationship between variables in an entire population. \n"
   ]
  },
  {
   "cell_type": "markdown",
   "id": "93354c1f-7822-4f33-9daf-dfe6bfe8e06a",
   "metadata": {},
   "source": [
    "# question 10 \n",
    "Measures of central tendency are summary statistics that represent the center point or typical value of a dataset. Examples of these measures include the mean, median, and mode. These statistics indicate where most values in a distribution fall and are also referred to as the central location of a distribution. You can think of central tendency as the propensity for data points to cluster around a middle value.\n",
    "\n",
    "\n",
    "\n"
   ]
  },
  {
   "cell_type": "code",
   "execution_count": null,
   "id": "a1686bde-747c-47a2-94f2-8a769a7b2920",
   "metadata": {},
   "outputs": [],
   "source": []
  }
 ],
 "metadata": {
  "kernelspec": {
   "display_name": "Python 3 (ipykernel)",
   "language": "python",
   "name": "python3"
  },
  "language_info": {
   "codemirror_mode": {
    "name": "ipython",
    "version": 3
   },
   "file_extension": ".py",
   "mimetype": "text/x-python",
   "name": "python",
   "nbconvert_exporter": "python",
   "pygments_lexer": "ipython3",
   "version": "3.10.8"
  }
 },
 "nbformat": 4,
 "nbformat_minor": 5
}
